{
 "cells": [
  {
   "cell_type": "code",
   "execution_count": 4,
   "metadata": {
    "colab": {
     "base_uri": "https://localhost:8080/",
     "height": 34
    },
    "colab_type": "code",
    "id": "Av8kCYiP9-_R",
    "outputId": "e31a1fed-cbca-4c24-843e-a06a4156109d"
   },
   "outputs": [],
   "source": [
    "import matplotlib.pyplot as plt\n",
    "import os\n",
    "import glob\n",
    "import numpy as np\n",
    "from keras.utils.np_utils import to_categorical"
   ]
  },
  {
   "cell_type": "code",
   "execution_count": 2,
   "metadata": {
    "colab": {
     "base_uri": "https://localhost:8080/",
     "height": 34
    },
    "colab_type": "code",
    "id": "pdgcVOXCP2Os",
    "outputId": "b762f5af-dc2a-4fd9-b478-d69a93b89c6e"
   },
   "outputs": [
    {
     "name": "stdout",
     "output_type": "stream",
     "text": [
      "Drive already mounted at /content/drive; to attempt to forcibly remount, call drive.mount(\"/content/drive\", force_remount=True).\n"
     ]
    }
   ],
   "source": [
    "from google.colab import drive\n",
    "drive.mount('/content/drive')"
   ]
  },
  {
   "cell_type": "code",
   "execution_count": 5,
   "metadata": {
    "colab": {},
    "colab_type": "code",
    "id": "QMYfjcQp-sSj"
   },
   "outputs": [],
   "source": [
    "def load_files(path):\n",
    "    '''\n",
    "    Input: path to parent child folder\n",
    "    Output: paths to parent files, paths to child files    \n",
    "    '''\n",
    "    parent_files = []\n",
    "    child_files = []\n",
    "    for file in os.listdir(path):\n",
    "        if file == \"Thumbs.db\":\n",
    "            continue\n",
    "        if file.split(\"_\")[2][0] == \"1\":\n",
    "            parent_files.append(os.path.join(path, file))\n",
    "        elif file.split(\"_\")[2][0] == \"2\":\n",
    "            child_files.append(os.path.join(path, file))\n",
    "    return parent_files, child_files\n",
    "# print(load_files(\"C:\\\\Users\\\\Manmeet\\\\Desktop\\\\Spring 2019\\\\NN\\\\Project\\\\KinFaceW-II\\\\KinFaceW-II\\\\images\\\\father-dau\"))"
   ]
  },
  {
   "cell_type": "code",
   "execution_count": 6,
   "metadata": {
    "colab": {},
    "colab_type": "code",
    "id": "F0aa8mh7-sWx"
   },
   "outputs": [
    {
     "ename": "IndexError",
     "evalue": "list index out of range",
     "output_type": "error",
     "traceback": [
      "\u001b[1;31m---------------------------------------------------------------------------\u001b[0m",
      "\u001b[1;31mIndexError\u001b[0m                                Traceback (most recent call last)",
      "Cell \u001b[1;32mIn[6], line 16\u001b[0m\n\u001b[0;32m     13\u001b[0m             comb_key \u001b[38;5;241m+\u001b[39m\u001b[38;5;241m=\u001b[39m \u001b[38;5;241m1\u001b[39m\n\u001b[0;32m     14\u001b[0m         \u001b[38;5;28;01mreturn\u001b[39;00m parent_dict, child_dict\n\u001b[1;32m---> 16\u001b[0m train_parent_dict, train_child_dict \u001b[38;5;241m=\u001b[39m \u001b[43mmake_pair_dict\u001b[49m\u001b[43m(\u001b[49m\u001b[43mTRAIN_ROOT_DIR\u001b[49m\u001b[43m)\u001b[49m\n\u001b[0;32m     17\u001b[0m test_parent_dict, test_child_dict \u001b[38;5;241m=\u001b[39m make_pair_dict(TEST_ROOT_DIR)\n",
      "Cell \u001b[1;32mIn[6], line 12\u001b[0m, in \u001b[0;36mmake_pair_dict\u001b[1;34m(ROOT_DIR)\u001b[0m\n\u001b[0;32m     10\u001b[0m \u001b[38;5;28;01mfor\u001b[39;00m pair \u001b[38;5;129;01min\u001b[39;00m pairs:\n\u001b[0;32m     11\u001b[0m     pair_path \u001b[38;5;241m=\u001b[39m os\u001b[38;5;241m.\u001b[39mpath\u001b[38;5;241m.\u001b[39mjoin(ROOT_DIR, pair)\n\u001b[1;32m---> 12\u001b[0m     parent_dict[comb_key], child_dict[comb_key] \u001b[38;5;241m=\u001b[39m \u001b[43mload_files\u001b[49m\u001b[43m(\u001b[49m\u001b[43mpair_path\u001b[49m\u001b[43m)\u001b[49m\n\u001b[0;32m     13\u001b[0m     comb_key \u001b[38;5;241m+\u001b[39m\u001b[38;5;241m=\u001b[39m \u001b[38;5;241m1\u001b[39m\n\u001b[0;32m     14\u001b[0m \u001b[38;5;28;01mreturn\u001b[39;00m parent_dict, child_dict\n",
      "Cell \u001b[1;32mIn[5], line 11\u001b[0m, in \u001b[0;36mload_files\u001b[1;34m(path)\u001b[0m\n\u001b[0;32m      9\u001b[0m \u001b[38;5;28;01mif\u001b[39;00m file \u001b[38;5;241m==\u001b[39m \u001b[38;5;124m\"\u001b[39m\u001b[38;5;124mThumbs.db\u001b[39m\u001b[38;5;124m\"\u001b[39m:\n\u001b[0;32m     10\u001b[0m     \u001b[38;5;28;01mcontinue\u001b[39;00m\n\u001b[1;32m---> 11\u001b[0m \u001b[38;5;28;01mif\u001b[39;00m \u001b[43mfile\u001b[49m\u001b[38;5;241;43m.\u001b[39;49m\u001b[43msplit\u001b[49m\u001b[43m(\u001b[49m\u001b[38;5;124;43m\"\u001b[39;49m\u001b[38;5;124;43m_\u001b[39;49m\u001b[38;5;124;43m\"\u001b[39;49m\u001b[43m)\u001b[49m\u001b[43m[\u001b[49m\u001b[38;5;241;43m2\u001b[39;49m\u001b[43m]\u001b[49m[\u001b[38;5;241m0\u001b[39m] \u001b[38;5;241m==\u001b[39m \u001b[38;5;124m\"\u001b[39m\u001b[38;5;124m1\u001b[39m\u001b[38;5;124m\"\u001b[39m:\n\u001b[0;32m     12\u001b[0m     parent_files\u001b[38;5;241m.\u001b[39mappend(os\u001b[38;5;241m.\u001b[39mpath\u001b[38;5;241m.\u001b[39mjoin(path, file))\n\u001b[0;32m     13\u001b[0m \u001b[38;5;28;01melif\u001b[39;00m file\u001b[38;5;241m.\u001b[39msplit(\u001b[38;5;124m\"\u001b[39m\u001b[38;5;124m_\u001b[39m\u001b[38;5;124m\"\u001b[39m)[\u001b[38;5;241m2\u001b[39m][\u001b[38;5;241m0\u001b[39m] \u001b[38;5;241m==\u001b[39m \u001b[38;5;124m\"\u001b[39m\u001b[38;5;124m2\u001b[39m\u001b[38;5;124m\"\u001b[39m:\n",
      "\u001b[1;31mIndexError\u001b[0m: list index out of range"
     ]
    }
   ],
   "source": [
    "TRAIN_ROOT_DIR = r\"C:\\Users\\pcs\\Desktop\\KinFaceW-I\\KinFaceW-I\"\n",
    "TEST_ROOT_DIR = r\"C:\\Users\\pcs\\Desktop\\KinFaceW-II\\KinFaceW-II\"\n",
    "def make_pair_dict(ROOT_DIR):\n",
    "        pairs = os.listdir(ROOT_DIR)\n",
    "\n",
    "        parent_dict = {}\n",
    "        child_dict = {}\n",
    "\n",
    "        comb_key = 1\n",
    "        for pair in pairs:\n",
    "            pair_path = os.path.join(ROOT_DIR, pair)\n",
    "            parent_dict[comb_key], child_dict[comb_key] = load_files(pair_path)\n",
    "            comb_key += 1\n",
    "        return parent_dict, child_dict\n",
    "    \n",
    "train_parent_dict, train_child_dict = make_pair_dict(TRAIN_ROOT_DIR)\n",
    "test_parent_dict, test_child_dict = make_pair_dict(TEST_ROOT_DIR)"
   ]
  },
  {
   "cell_type": "code",
   "execution_count": 7,
   "metadata": {
    "colab": {},
    "colab_type": "code",
    "id": "XsGysapE-sav"
   },
   "outputs": [
    {
     "ename": "NameError",
     "evalue": "name 'train_parent_dict' is not defined",
     "output_type": "error",
     "traceback": [
      "\u001b[1;31m---------------------------------------------------------------------------\u001b[0m",
      "\u001b[1;31mNameError\u001b[0m                                 Traceback (most recent call last)",
      "Cell \u001b[1;32mIn[7], line 22\u001b[0m\n\u001b[0;32m     19\u001b[0m     images[:,:,\u001b[38;5;241m3\u001b[39m:\u001b[38;5;241m6\u001b[39m] \u001b[38;5;241m=\u001b[39m child\n\u001b[0;32m     20\u001b[0m     \u001b[38;5;28;01mreturn\u001b[39;00m images\n\u001b[1;32m---> 22\u001b[0m train_matched_pairs, train_unmatched_pairs \u001b[38;5;241m=\u001b[39m make_pairs(\u001b[43mtrain_parent_dict\u001b[49m, train_child_dict)\n\u001b[0;32m     23\u001b[0m test_matched_pairs, test_unmatched_pairs \u001b[38;5;241m=\u001b[39m make_pairs(test_parent_dict, test_child_dict)\n",
      "\u001b[1;31mNameError\u001b[0m: name 'train_parent_dict' is not defined"
     ]
    }
   ],
   "source": [
    "def make_pairs(parent_dict, child_dict):\n",
    "    matched_pairs = []\n",
    "    unmatched_pairs = []\n",
    "    for parent_key in parent_dict.keys():\n",
    "        for child_key in child_dict.keys():\n",
    "            if parent_key == child_key:\n",
    "                for file in zip(parent_dict[parent_key], child_dict[child_key]):\n",
    "                    matched_pairs.append(load_images(file))\n",
    "            else:\n",
    "                for file in zip(parent_dict[parent_key], child_dict[child_key]):\n",
    "                    unmatched_pairs.append(load_images(file))\n",
    "    return matched_pairs, unmatched_pairs\n",
    "                    \n",
    "def load_images(file):\n",
    "    images = np.zeros((64, 64, 6))\n",
    "    parent = plt.imread(file[0])\n",
    "    images[:,:,0:3] = parent\n",
    "    child = plt.imread(file[1])\n",
    "    images[:,:,3:6] = child\n",
    "    return images\n",
    "\n",
    "train_matched_pairs, train_unmatched_pairs = make_pairs(train_parent_dict, train_child_dict)\n",
    "test_matched_pairs, test_unmatched_pairs = make_pairs(test_parent_dict, test_child_dict)"
   ]
  },
  {
   "cell_type": "code",
   "execution_count": 5,
   "metadata": {},
   "outputs": [],
   "source": [
    "np.save(\"train_matched_pairs.npy\", train_matched_pairs)\n",
    "np.save(\"test_matched_pairs.npy\", test_matched_pairs)\n",
    "np.save(\"train_unmatched_pairs.npy\", train_unmatched_pairs)\n",
    "np.save(\"test_unmatched_pairs.npy\", test_unmatched_pairs)"
   ]
  },
  {
   "cell_type": "code",
   "execution_count": null,
   "metadata": {
    "colab": {},
    "colab_type": "code",
    "id": "TLtGEwGPRyRG"
   },
   "outputs": [],
   "source": [
    "    import numpy as np\n",
    "    train_matched_pairs = np.load(\"/content/drive/My Drive/train_matched_pairs.npy\")\n",
    "    train_unmatched_pairs = np.load(\"/content/drive/My Drive/train_unmatched_pairs.npy\")\n",
    "    test_matched_pairs = np.load(\"/content/drive/My Drive/test_matched_pairs.npy\")\n",
    "    test_unmatched_pairs = np.load(\"/content/drive/My Drive/test_unmatched_pairs.npy\")"
   ]
  },
  {
   "cell_type": "code",
   "execution_count": null,
   "metadata": {},
   "outputs": [],
   "source": []
  },
  {
   "cell_type": "code",
   "execution_count": 3,
   "metadata": {
    "colab": {
     "base_uri": "https://localhost:8080/",
     "height": 34
    },
    "colab_type": "code",
    "id": "kOuhkaHT-sei",
    "outputId": "93ca6f81-9984-435e-98fc-bbe115be7269"
   },
   "outputs": [
    {
     "name": "stderr",
     "output_type": "stream",
     "text": [
      "Using TensorFlow backend.\n"
     ]
    }
   ],
   "source": [
    "from keras.utils.np_utils import to_categorical\n",
    "def train_test_and_make_labels(matched_pairs, unmatched_pairs):\n",
    "    matched_pairs = np.array(matched_pairs)\n",
    "    unmatched_pairs = np.array(unmatched_pairs)\n",
    "    labels = to_categorical(np.r_[np.ones(matched_pairs.shape[0]), np.zeros(unmatched_pairs.shape[0])])\n",
    "    pairs = np.r_[matched_pairs, unmatched_pairs]\n",
    "    return pairs, labels\n",
    "\n",
    "X_train, Y_train = train_test_and_make_labels(train_matched_pairs, train_unmatched_pairs)\n",
    "X_test, Y_test = train_test_and_make_labels(test_matched_pairs, test_unmatched_pairs)"
   ]
  },
  {
   "cell_type": "code",
   "execution_count": 5,
   "metadata": {
    "colab": {
     "base_uri": "https://localhost:8080/",
     "height": 34
    },
    "colab_type": "code",
    "id": "b5QkuPkH-sht",
    "outputId": "09bbc118-0db9-4dce-f0a5-3c19b3927078"
   },
   "outputs": [
    {
     "data": {
      "text/plain": [
       "((4000, 64, 64, 6), (4000, 2), (2005, 64, 64, 6), (2005, 2))"
      ]
     },
     "execution_count": 5,
     "metadata": {
      "tags": []
     },
     "output_type": "execute_result"
    }
   ],
   "source": [
    "X_train.shape, Y_train.shape, X_test.shape, Y_test.shape"
   ]
  },
  {
   "cell_type": "code",
   "execution_count": null,
   "metadata": {
    "colab": {},
    "colab_type": "code",
    "id": "cxgSnV5X-so9"
   },
   "outputs": [],
   "source": [
    "from keras import layers\n",
    "from keras import models\n",
    "from keras import optimizers\n",
    "\n",
    "def model_2():\n",
    "    model = models.Sequential()\n",
    "    model.add(layers.Conv2D(16, (5, 5), strides=1, padding='valid', input_shape=(64, 64, 6), use_bias=False))\n",
    "    model.add(layers.BatchNormalization())\n",
    "    model.add(layers.Activation('relu'))\n",
    "    model.add(layers.MaxPooling2D((2, 2)))\n",
    "    \n",
    "    model.add(layers.Conv2D(32, (5, 5), use_bias=False))\n",
    "    model.add(layers.BatchNormalization())\n",
    "    model.add(layers.Activation('relu'))\n",
    "    model.add(layers.MaxPooling2D((2, 2)))\n",
    "    \n",
    "    model.add(layers.Conv2D(64, (5, 5), use_bias=False))\n",
    "    model.add(layers.BatchNormalization())\n",
    "    model.add(layers.Activation('relu'))\n",
    "    model.add(layers.MaxPooling2D((2, 2)))\n",
    "    \n",
    "    model.add(layers.Conv2D(64, (2, 2), use_bias=False))\n",
    "    model.add(layers.BatchNormalization())\n",
    "    model.add(layers.Activation('tanh'))\n",
    "    model.add(layers.MaxPooling2D((2, 2)))\n",
    "    \n",
    "    model.add(layers.Flatten())\n",
    "    model.add(layers.Dense(512, use_bias=False))\n",
    "    model.add(layers.BatchNormalization())\n",
    "    model.add(layers.Activation('tanh'))\n",
    "    \n",
    "    # model.add(layers.Dropout(0.4))\n",
    "    model.add(layers.Dense(2, activation='softmax'))\n",
    "    sgd = optimizers.SGD(lr=0.01, decay=1e-6, momentum=0.9, nesterov=True)\n",
    "    model.compile(optimizer=sgd, loss='binary_crossentropy', metrics=['accuracy'])\n",
    "    return model"
   ]
  },
  {
   "cell_type": "code",
   "execution_count": 7,
   "metadata": {
    "colab": {
     "base_uri": "https://localhost:8080/",
     "height": 221
    },
    "colab_type": "code",
    "id": "zkp_uuHM_A-9",
    "outputId": "e8e1f51d-5750-45b9-ff05-4bc8f19ad8cb"
   },
   "outputs": [
    {
     "name": "stdout",
     "output_type": "stream",
     "text": [
      "Train on 4000 samples, validate on 2005 samples\n",
      "Epoch 1/5\n",
      "20/20 [==============================] - 30s 2s/step - loss: 0.4571 - acc: 0.7841 - val_loss: 0.8970 - val_acc: 0.5751\n",
      "Epoch 2/5\n",
      "20/20 [==============================] - 29s 1s/step - loss: 0.2234 - acc: 0.9192 - val_loss: 0.6294 - val_acc: 0.7531\n",
      "Epoch 3/5\n",
      "20/20 [==============================] - 29s 1s/step - loss: 0.0960 - acc: 0.9801 - val_loss: 0.7743 - val_acc: 0.7337\n",
      "Epoch 4/5\n",
      "20/20 [==============================] - 29s 1s/step - loss: 0.1049 - acc: 0.9699 - val_loss: 0.9105 - val_acc: 0.7835\n",
      "Epoch 5/5\n",
      "20/20 [==============================] - 29s 1s/step - loss: 0.0280 - acc: 0.9989 - val_loss: 1.0015 - val_acc: 0.7805\n"
     ]
    },
    {
     "data": {
      "text/plain": [
       "<keras.callbacks.History at 0x7fc0adf01f60>"
      ]
     },
     "execution_count": 7,
     "metadata": {
      "tags": []
     },
     "output_type": "execute_result"
    }
   ],
   "source": [
    "model = model_2()\n",
    "model.fit(X_train/255, Y_train, steps_per_epoch=20, epochs=5, verbose=1, shuffle=True, validation_data=(X_test/255, Y_test), validation_steps=100)"
   ]
  },
  {
   "cell_type": "code",
   "execution_count": null,
   "metadata": {
    "colab": {},
    "colab_type": "code",
    "id": "H9VIJU_CYAoN"
   },
   "outputs": [],
   "source": [
    "model.save(\"2-classifier-model.h5\")"
   ]
  },
  {
   "cell_type": "code",
   "execution_count": 13,
   "metadata": {},
   "outputs": [],
   "source": [
    "from keras import layers\n",
    "from keras.models import load_model\n",
    "from keras import optimizers\n",
    "\n",
    "new_model = load_model(\"C:\\\\Users\\\\Manmeet\\\\Desktop\\\\Spring 2019\\\\NN\\\\Project\\\\2-classifier-model-enhanced\")"
   ]
  },
  {
   "cell_type": "code",
   "execution_count": 1,
   "metadata": {},
   "outputs": [
    {
     "name": "stdout",
     "output_type": "stream",
     "text": [
      "Selected: C:/Users/Revanth Ayitha/Desktop/Screenshot 2024-03-28 070200.png\n"
     ]
    },
    {
     "name": "stderr",
     "output_type": "stream",
     "text": [
      "Exception in Tkinter callback\n",
      "Traceback (most recent call last):\n",
      "  File \"c:\\Users\\Revanth Ayitha\\AppData\\Local\\Programs\\Python\\Python312\\Lib\\tkinter\\__init__.py\", line 1948, in __call__\n",
      "    return self.func(*args)\n",
      "           ^^^^^^^^^^^^^^^^\n",
      "  File \"C:\\Users\\Revanth Ayitha\\AppData\\Local\\Temp\\ipykernel_23608\\2680871772.py\", line 16, in UploadAction1\n",
      "    img = img.resize((64, 64), Image.ANTIALIAS)\n",
      "                               ^^^^^^^^^^^^^^^\n",
      "AttributeError: module 'PIL.Image' has no attribute 'ANTIALIAS'\n"
     ]
    },
    {
     "name": "stdout",
     "output_type": "stream",
     "text": [
      "Selected: C:/Users/Revanth Ayitha/Desktop/REVANTH FOLDER/galaxy m12/DCIM/Birthday re/IMG_20190804_162148.jpg\n"
     ]
    },
    {
     "name": "stderr",
     "output_type": "stream",
     "text": [
      "Exception in Tkinter callback\n",
      "Traceback (most recent call last):\n",
      "  File \"c:\\Users\\Revanth Ayitha\\AppData\\Local\\Programs\\Python\\Python312\\Lib\\tkinter\\__init__.py\", line 1948, in __call__\n",
      "    return self.func(*args)\n",
      "           ^^^^^^^^^^^^^^^^\n",
      "  File \"C:\\Users\\Revanth Ayitha\\AppData\\Local\\Temp\\ipykernel_23608\\2680871772.py\", line 36, in UploadAction2\n",
      "    img = img.resize((64, 64), Image.ANTIALIAS)\n",
      "                               ^^^^^^^^^^^^^^^\n",
      "AttributeError: module 'PIL.Image' has no attribute 'ANTIALIAS'\n",
      "Exception in Tkinter callback\n",
      "Traceback (most recent call last):\n",
      "  File \"c:\\Users\\Revanth Ayitha\\AppData\\Local\\Programs\\Python\\Python312\\Lib\\tkinter\\__init__.py\", line 1948, in __call__\n",
      "    return self.func(*args)\n",
      "           ^^^^^^^^^^^^^^^^\n",
      "  File \"C:\\Users\\Revanth Ayitha\\AppData\\Local\\Temp\\ipykernel_23608\\2680871772.py\", line 52, in SubmitAction\n",
      "    image = np.zeros((64, 64, 6))\n",
      "            ^^\n",
      "NameError: name 'np' is not defined\n"
     ]
    },
    {
     "name": "stdout",
     "output_type": "stream",
     "text": [
      "Selected: C:/Users/Revanth Ayitha/Desktop/REVANTH FOLDER/galaxy m12/DCIM/Birthday re/IMG_20190804_162148.jpg\n"
     ]
    },
    {
     "name": "stderr",
     "output_type": "stream",
     "text": [
      "Exception in Tkinter callback\n",
      "Traceback (most recent call last):\n",
      "  File \"c:\\Users\\Revanth Ayitha\\AppData\\Local\\Programs\\Python\\Python312\\Lib\\tkinter\\__init__.py\", line 1948, in __call__\n",
      "    return self.func(*args)\n",
      "           ^^^^^^^^^^^^^^^^\n",
      "  File \"C:\\Users\\Revanth Ayitha\\AppData\\Local\\Temp\\ipykernel_23608\\2680871772.py\", line 36, in UploadAction2\n",
      "    img = img.resize((64, 64), Image.ANTIALIAS)\n",
      "                               ^^^^^^^^^^^^^^^\n",
      "AttributeError: module 'PIL.Image' has no attribute 'ANTIALIAS'\n"
     ]
    },
    {
     "name": "stdout",
     "output_type": "stream",
     "text": [
      "Selected: C:/Users/Revanth Ayitha/Desktop/Screenshot 2024-03-28 070200.png\n"
     ]
    },
    {
     "name": "stderr",
     "output_type": "stream",
     "text": [
      "Exception in Tkinter callback\n",
      "Traceback (most recent call last):\n",
      "  File \"c:\\Users\\Revanth Ayitha\\AppData\\Local\\Programs\\Python\\Python312\\Lib\\tkinter\\__init__.py\", line 1948, in __call__\n",
      "    return self.func(*args)\n",
      "           ^^^^^^^^^^^^^^^^\n",
      "  File \"C:\\Users\\Revanth Ayitha\\AppData\\Local\\Temp\\ipykernel_23608\\2680871772.py\", line 16, in UploadAction1\n",
      "    img = img.resize((64, 64), Image.ANTIALIAS)\n",
      "                               ^^^^^^^^^^^^^^^\n",
      "AttributeError: module 'PIL.Image' has no attribute 'ANTIALIAS'\n",
      "Exception in Tkinter callback\n",
      "Traceback (most recent call last):\n",
      "  File \"c:\\Users\\Revanth Ayitha\\AppData\\Local\\Programs\\Python\\Python312\\Lib\\tkinter\\__init__.py\", line 1948, in __call__\n",
      "    return self.func(*args)\n",
      "           ^^^^^^^^^^^^^^^^\n",
      "  File \"C:\\Users\\Revanth Ayitha\\AppData\\Local\\Temp\\ipykernel_23608\\2680871772.py\", line 52, in SubmitAction\n",
      "    image = np.zeros((64, 64, 6))\n",
      "            ^^\n",
      "NameError: name 'np' is not defined\n",
      "Exception in Tkinter callback\n",
      "Traceback (most recent call last):\n",
      "  File \"c:\\Users\\Revanth Ayitha\\AppData\\Local\\Programs\\Python\\Python312\\Lib\\tkinter\\__init__.py\", line 1948, in __call__\n",
      "    return self.func(*args)\n",
      "           ^^^^^^^^^^^^^^^^\n",
      "  File \"C:\\Users\\Revanth Ayitha\\AppData\\Local\\Temp\\ipykernel_23608\\2680871772.py\", line 52, in SubmitAction\n",
      "    image = np.zeros((64, 64, 6))\n",
      "            ^^\n",
      "NameError: name 'np' is not defined\n",
      "Exception in Tkinter callback\n",
      "Traceback (most recent call last):\n",
      "  File \"c:\\Users\\Revanth Ayitha\\AppData\\Local\\Programs\\Python\\Python312\\Lib\\tkinter\\__init__.py\", line 1948, in __call__\n",
      "    return self.func(*args)\n",
      "           ^^^^^^^^^^^^^^^^\n",
      "  File \"C:\\Users\\Revanth Ayitha\\AppData\\Local\\Temp\\ipykernel_23608\\2680871772.py\", line 52, in SubmitAction\n",
      "    image = np.zeros((64, 64, 6))\n",
      "            ^^\n",
      "NameError: name 'np' is not defined\n",
      "Exception in Tkinter callback\n",
      "Traceback (most recent call last):\n",
      "  File \"c:\\Users\\Revanth Ayitha\\AppData\\Local\\Programs\\Python\\Python312\\Lib\\tkinter\\__init__.py\", line 1948, in __call__\n",
      "    return self.func(*args)\n",
      "           ^^^^^^^^^^^^^^^^\n",
      "  File \"C:\\Users\\Revanth Ayitha\\AppData\\Local\\Temp\\ipykernel_23608\\2680871772.py\", line 52, in SubmitAction\n",
      "    image = np.zeros((64, 64, 6))\n",
      "            ^^\n",
      "NameError: name 'np' is not defined\n"
     ]
    }
   ],
   "source": [
    "from tkinter import *\n",
    "from PIL import ImageTk, Image\n",
    "from tkinter import filedialog\n",
    "from tkinter import messagebox\n",
    "\n",
    "# self.x['state'] = 'normal'\n",
    "\n",
    "\n",
    "# Controls the action for the first Upload button\n",
    "def UploadAction1(event=None):\n",
    "    filename = filedialog.askopenfilename()\n",
    "    button2['state'] = 'normal'\n",
    "    print('Selected:', filename)\n",
    "    global f1     \n",
    "    img = Image.open(filename)\n",
    "    img = img.resize((64, 64), Image.ANTIALIAS)\n",
    "    photo = ImageTk.PhotoImage(img)\n",
    "    \n",
    "    label = Label(image=photo)\n",
    "    label.image = photo # keep a reference!\n",
    "    label.grid(column=0, row=3)\n",
    "#     canvas.create_image(20,20, anchor=SW, image=img)\n",
    "\n",
    "    # Store the path of the selected file into a global variable, since we need to use it to form the combination of input images\n",
    "    # to pass as input to the model.\n",
    "    f1 = filename\n",
    "    \n",
    "# Controls the action for the second Upload button\n",
    "def UploadAction2(event=None):\n",
    "    filename = filedialog.askopenfilename()\n",
    "    global f2\n",
    "    print('Selected:', filename)\n",
    "    submit['state'] = 'normal'\n",
    "    # filename2 = filename.replace('/','\\\\')\n",
    "    img = Image.open(filename)\n",
    "    img = img.resize((64, 64), Image.ANTIALIAS)\n",
    "    photo = ImageTk.PhotoImage(img)\n",
    "    \n",
    "    label = Label(image=photo)\n",
    "    label.image = photo # keep a reference!\n",
    "    label.grid(column=10, row=3)\n",
    "    \n",
    "    # Store the path of the selected file into a global variable, since we need to use it to form the combination of input images\n",
    "    # to pass as input to the model.\n",
    "    f2 = filename\n",
    "     \n",
    "# Controls the action of the submit button, which triggers the formation of the input image to the model.\n",
    "# It displays the prediction in a separate dialog box.\n",
    "def SubmitAction():\n",
    "    \n",
    "    # form the parent-child image from the uploaded files\n",
    "    image = np.zeros((64, 64, 6))\n",
    "    #if file.split('.')[0][-1] == \"1\":\n",
    "    parent = plt.imread(f1)\n",
    "    image[:,:,0:3] = parent\n",
    "    #if file.split('.')[0][-1] == \"2\":\n",
    "    child = plt.imread(f2)\n",
    "    image[:,:,3:6] = child\n",
    "    \n",
    "    # pass this input to the model to make a prediction\n",
    "    x = new_model.predict_classes(image.reshape(1,64,64,6))\n",
    "    result = \"\"\n",
    "    \n",
    "    # Interpret the result based on the value returned by the predict_classes function\n",
    "    if(x[0] == 0):\n",
    "        result = \"The two images are related\"\n",
    "    elif(x[0] == 1):\n",
    "        result = \"The two images are not related\"\n",
    "    \n",
    "    \n",
    "    # Display the class result in a new dialog box.\n",
    "    msg = messagebox.showinfo( \"Classification\", result)\n",
    "    \n",
    "window = Tk()\n",
    "# to rename the title of the window\n",
    "window.title(\"GUI\")\n",
    "window.geometry(\"300x200\")\n",
    "window.configure(background='grey')\n",
    "\n",
    "button1 = Button(window, text='Upload Image 1', command=UploadAction1)\n",
    "# button1.pack(side=LEFT, fill=None, expand=True, padx=4, pady=1)\n",
    "button1.grid(column=0, padx=10, pady=4, row=1)\n",
    "\n",
    "\n",
    "button2 = Button(window, text='Upload Image 2', command=UploadAction2, state=DISABLED)\n",
    "button2.grid(column = 10, padx=10, pady=4, row=1)\n",
    "\n",
    "# canvas = Canvas(window, width = 300, height = 300)      \n",
    "# canvas.pack()      \n",
    "# img = PhotoImage(file=filename1)      \n",
    "# canvas.create_image(20,20, anchor=NW, image=img) \n",
    "\n",
    "submit = Button(window, text='Submit', command=SubmitAction, state=DISABLED)\n",
    "submit.grid(column = 3, row= 5)\n",
    "    \n",
    "# pack is used to show the object in the window\n",
    "# label = tkinter.Label(window, text = \"Hello World!\").pack()\n",
    "window.mainloop()"
   ]
  }
 ],
 "metadata": {
  "accelerator": "GPU",
  "colab": {
   "collapsed_sections": [],
   "name": "2-class_classifier.ipynb",
   "provenance": [],
   "version": "0.3.2"
  },
  "kernelspec": {
   "display_name": "Python 3",
   "language": "python",
   "name": "python3"
  },
  "language_info": {
   "codemirror_mode": {
    "name": "ipython",
    "version": 3
   },
   "file_extension": ".py",
   "mimetype": "text/x-python",
   "name": "python",
   "nbconvert_exporter": "python",
   "pygments_lexer": "ipython3",
   "version": "3.12.0"
  }
 },
 "nbformat": 4,
 "nbformat_minor": 1
}
